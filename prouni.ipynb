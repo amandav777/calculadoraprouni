{
  "cells": [
    {
      "cell_type": "code",
      "execution_count": null,
      "metadata": {
        "id": "JdTAOS9s8_mB"
      },
      "outputs": [],
      "source": [
        "# versão mais atualizada, espero conseguir melhorar um dia.\n",
        "\n",
        "salariomin = float(input(\"Insira o valor atual do salário mínimo no Brasil: \"))\n",
        "pessoas = float(input(\"Quantas pessoas moram na sua casa? \"))\n",
        "renda = float(input(\"Qual a renda total do núcleo familiar? \"))\n",
        "\n",
        "percapita = renda / pessoas\n",
        "percapita50 = salariomin * 1.50\n",
        "\n",
        "if percapita <= salariomin:\n",
        "  print(\"Você se qualifica para os requisitos do ProUni 100%.\")\n",
        "\n",
        "elif percapita <= percapita50:\n",
        "  print(\"Você se qualifica para os requisitos do ProUni 50%.\")\n",
        "\n",
        "elif percapita > percapita50:\n",
        " print(\"Você não se qualifica em nenhum critério do ProUni.\")\n"
      ]
    }
  ],
  "metadata": {
    "colab": {
      "authorship_tag": "ABX9TyOxI8869PR6dZCqgwUGXXFd",
      "provenance": []
    },
    "kernelspec": {
      "display_name": "Python 3",
      "name": "python3"
    },
    "language_info": {
      "name": "python"
    }
  },
  "nbformat": 4,
  "nbformat_minor": 0
}
